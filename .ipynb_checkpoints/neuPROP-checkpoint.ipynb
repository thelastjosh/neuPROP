{
 "metadata": {
  "signature": "sha256:6cc16cb12c89b6fbdc2189caf1d5af7e4af5a14ec9d4fec73d50e1832ef0afe1"
 },
 "nbformat": 3,
 "nbformat_minor": 0,
 "worksheets": [
  {
   "cells": [
    {
     "cell_type": "code",
     "collapsed": false,
     "input": [
      "from IPython.display import HTML\n",
      "\n",
      "HTML('''<script>\n",
      "code_show=true; \n",
      "function code_toggle() {\n",
      " if (code_show){\n",
      " $('div.input').hide();\n",
      " } else {\n",
      " $('div.input').show();\n",
      " }\n",
      " code_show = !code_show\n",
      "} \n",
      "$( document ).ready(code_toggle);\n",
      "</script>\n",
      "<form action=\"javascript:code_toggle()\"><input type=\"submit\" value=\"Click here to toggle on/off the raw code.\"></form>''')"
     ],
     "language": "python",
     "metadata": {},
     "outputs": [
      {
       "html": [
        "<script>\n",
        "code_show=true; \n",
        "function code_toggle() {\n",
        " if (code_show){\n",
        " $('div.input').hide();\n",
        " } else {\n",
        " $('div.input').show();\n",
        " }\n",
        " code_show = !code_show\n",
        "} \n",
        "$( document ).ready(code_toggle);\n",
        "</script>\n",
        "<form action=\"javascript:code_toggle()\"><input type=\"submit\" value=\"Click here to toggle on/off the raw code.\"></form>"
       ],
       "metadata": {},
       "output_type": "pyout",
       "prompt_number": 5,
       "text": [
        "<IPython.core.display.HTML at 0x1071aefd0>"
       ]
      }
     ],
     "prompt_number": 5
    },
    {
     "cell_type": "markdown",
     "metadata": {
      "hidden": false
     },
     "source": [
      "# Introduction\n",
      "**Review of basic idea:** neural networks are PROPs (a.k.a. a [\"products and permutations\" category](http://ncatlab.org/nlab/show/PROP)), and data is an algebra over the PROP. Given a neural network, we can construct a PROP, and we show that composition of networks or layers within networks (by setting the outputs of one network as the inputs to another network) corresponds to composition in the PROP.\n",
      "\n",
      "`About this file:` this document is an iPython notebook with interactive Python and Haskell code. It can be viewed at http://nbviewer.ipython.org/github/thelastjosh/neuPROP/blob/master/neuPROP.ipynb.\n",
      "\n",
      "`About the modules:` we will use `scikit-sklearn` and `pybrain` for \"off-the-shelf\" neural networks, `matplotlib` and `seaborn` for visualization, `NLTK` for its parse tools for text corpora, and `networkx` for graph manipulation.\n",
      "\n",
      "`About the data:` we will be using 3 datasets throughout this document.\n",
      "\n",
      "* `iris.csv` is the classic dataset from Fisher '36, with 150 instances, 4 features, and 3 classes (see below).\n",
      "* for fun, I've included Harrell's most recent `titanic3.csv` data set, with 1310 instances and 13 features.\n",
      "* the Brown corpus from Francis & Kucera with 1,181,041 words, imported from the `NLTK` module."
     ]
    },
    {
     "cell_type": "code",
     "collapsed": false,
     "input": [
      "import pandas as pd\n",
      "import numpy as np\n",
      "import nltk\n",
      "\n",
      "iris = pd.DataFrame.from_csv(\"iris.csv\")\n",
      "titanic = pd.DataFrame.from_csv(\"titanic3.csv\")\n",
      "from nltk.corpus import brown # the nltk.corpus path currently points to a copy in /Users/Josh/nltk. Another copy exists in this folder, under nltk/corpora/brown"
     ],
     "language": "python",
     "metadata": {},
     "outputs": [],
     "prompt_number": 2
    },
    {
     "cell_type": "code",
     "collapsed": false,
     "input": [
      "import seaborn as sns\n",
      "%matplotlib inline\n",
      "# sns.pairplot(iris, \"species\", size=2.5);"
     ],
     "language": "python",
     "metadata": {},
     "outputs": [],
     "prompt_number": 3
    },
    {
     "cell_type": "markdown",
     "metadata": {},
     "source": [
      "# Very brief review of neural networks\n",
      "\n",
      "**Perceptron:** for a classification problem with only two output classes $\\{1,-1\\} = Y$, the *perceptron* (or single-layer feedforward network) is a very simple linear classifier: for every example $x \\in X$, the hypothesis $h_w(x)$ is given as\n",
      "\n",
      "\\begin{equation*}h_w(x) = \n",
      "\\begin{cases}\n",
      "1 & \\text{if }w \\cdot x + b > 0 \\\\\n",
      "-1 & \\text{otherwise}\n",
      "\\end{cases}\n",
      "\\end{equation*}\n",
      "\n",
      "where $w$ is a vector of weights, $x$ is a vector of features, and $b$ is a constant called the bias. Notice that $h_w(x)$ has the form of a *step-wise activation function* (the threshold, in this case, being set at 0). If $y_i$ is the label of the $i$-th input $x_i$, then the algorithm is trained on data $(x_i,y_i)$ by the update rule\n",
      "\n",
      "\\begin{equation*}w_{i+1} \\leftarrow w_i + \\alpha (y_i - h(x_i)) x \\end{equation*} \n",
      "\n",
      "where $\\alpha$ is a constant called the *learning rate* or *step size*. The point of training is to minimize the number of mistakes on future guesses.\n",
      "\n",
      "Alternately, and more geometrically, the perceptron can be defined as stochastic gradient descent on the hinge loss function with a constant learning rate $\\alpha$:\n",
      "\n",
      "* \"stochastic\" corresponds to the fact that the learning is online,\n",
      "* \"gradient descent\" corresponds to the fact that the loss function \"at $x$\", $(y - h(x))x$, defines a direction\u2014\"the best guess at $x$\"\u2014in the parameter space of weights,\n",
      "* \"hinge loss\" corresponds to the fact that (y-h(x)) is either $0, 2$, or $-2$,\n",
      "* and \"constant learning rate\" means $\\alpha$ does not change over time (which it can, in some variants of gradient descent).\n",
      "\n",
      "Formally, recall that stochastic gradient descent is given by the following update rule: \n",
      "\n",
      "\\begin{equation*}w_{i+1} \\leftarrow w_i - \\alpha \\nabla Q_i(w_i) \\end{equation*}\n",
      "\n",
      "where $Q_i(w_i)$ is the loss function evaluated at the $i$-th example. For a given pair $(x_i, y_i)$, the hinge loss at $x_i$ is given by\n",
      "\n",
      "\\begin{equation*}\n",
      "L_{hinge}(x_i) = \\max (0, 1 - y_i h(x_i))\n",
      "\\end{equation*}\n",
      "\n",
      "where $c(x) \\in Y$ is the correct label of $x$. (For reasons that [this article](http://web.mit.edu/lrosasco/www/publications/loss.pdf) goes into, the hinge loss is the most widely used and the best-performing loss function in classification.)\n",
      "\n",
      "**Variants of perceptrons:** \n",
      "* a *multiclass perceptron* has more than one (always binary) output neuron. The generalization is straightforward. Suppose we have labels {A,B,C}; then we can use a one-vs-all strategy that reduces the multiclass problem to three iterations of the normal binary perceptron on outputs {A, B or C}, {B, A or C}, and {C, A or B}. Suppose $d_A(x)$ gives the signed distance of $x$ from the hyperplane between $A$ and either $B$ or $C$; $d_A(x)$ represents how confident the model is that $x$ is $A$. Then we choose as our hypothesis $h(x) = \\text{argmax}_j f_j(x)$.\n",
      "* if the data cannot be separated by a hyperplane, then a *kernel perceptron* can be used to construct a separating hyperplane in an (implicit) higher-dimensional space\n",
      "* a *maximum margin separator* is a perceptron algorithm that, as one might expect, constructs a hyperplane that maximizes the distance between two (separable) classes. It is very similar to the popular support vector machine (SVM)."
     ]
    },
    {
     "cell_type": "code",
     "collapsed": false,
     "input": [
      "# multiclass example\n",
      "import sklearn.linear_model as linear\n",
      "X = iris.values[:,:-2] # for the sake of representing everything in 3 dimensions, we are tossing out petal_width\n",
      "y = iris[\"species\"].values\n",
      "\n",
      "# fit model\n",
      "model = linear.Perceptron().fit(X,y)\n",
      "weights = model.coef_ # save weights\n",
      "\n",
      "# predict on X\n",
      "prediction = model.predict(X)\n",
      "print \"Percent correct: \" + str(model.score(X,y))\n",
      "print \"weight matrix = \\n\" + str(weights)"
     ],
     "language": "python",
     "metadata": {
      "hidden": false
     },
     "outputs": [
      {
       "output_type": "stream",
       "stream": "stdout",
       "text": [
        "Percent correct: 0.666666666667\n",
        "weight matrix = \n",
        "[[  1.5   6.2  -8.7]\n",
        " [ -1.6  -4.   -7.9]\n",
        " [ -4.8  -3.6  11.7]]\n"
       ]
      }
     ],
     "prompt_number": 3
    },
    {
     "cell_type": "code",
     "collapsed": false,
     "input": [
      "import matplotlib.pyplot as plt\n",
      "from mpl_toolkits.mplot3d import Axes3D\n",
      "from matplotlib import cm\n",
      "fig = plt.figure(figsize=(8,8))\n",
      "ax = fig.add_subplot(111,projection='3d')\n",
      "plt.hold(True) # to combine surface + scatter plot\n",
      "\n",
      "# scatter\n",
      "plot = ax.scatter(iris[\"sepal_length\"].values, iris[\"sepal_width\"].values, iris[\"petal_length\"].values)\n",
      "ax.view_init(elev=30., azim=40)\n",
      "ax.set_title('Separating hyperplane for setosa vs. rest')\n",
      "ax.set_xlabel('sepal_length')\n",
      "ax.set_ylabel('sepal_width')\n",
      "ax.set_zlabel('petal_length')\n",
      "\n",
      "# define hyperplane from weights\n",
      "X = np.arange(1,9,1)\n",
      "Y = np.arange(1,5,1)\n",
      "X, Y = np.meshgrid(X, Y)\n",
      "Z = np.negative( (weights[0][0]*X + weights[0][1]*Y) / weights[0][2] )\n",
      "# note: weights[0] is the weights for the perceptron encoding (setosa vs. rest)\n",
      "\n",
      "# define a transparent colormap\n",
      "theCM = cm.Reds\n",
      "theCM._init()\n",
      "alphas = np.abs(np.linspace(-1.0, 1.0, theCM.N))\n",
      "theCM._lut[:-3,-1] = alphas\n",
      "\n",
      "plot = ax.plot_surface(X, Y, Z, rstride=1, cstride=1, cmap=theCM, linewidth=0, antialiased=False) "
     ],
     "language": "python",
     "metadata": {
      "slideshow": {
       "slide_type": "-"
      }
     },
     "outputs": [
      {
       "metadata": {},
       "output_type": "display_data",
       "png": "[encoded data removed]",
       "text": [
        "<matplotlib.figure.Figure at 0x10d7d8750>"
       ]
      }
     ],
     "prompt_number": 4
    },
    {
     "cell_type": "markdown",
     "metadata": {},
     "source": [
      "**Backpropagation:** a more general neural network might have hidden or intermediate layers, and the corresponding update rule is called backpropagation. It is, in essence, an application of the chain rule to gradient descent. [Is there some suitable analogy here to pullbacks?]\n",
      "\n",
      "Let the *sigmoid activation function* be defined by the logistic function $\\phi(x) = 1 + \\exp (-x)^{-1}$. Alternate definitions use $\\tanh(x)$, which occassionally has better computational qualities."
     ]
    },
    {
     "cell_type": "code",
     "collapsed": false,
     "input": [
      "def sigmoid(x):\n",
      "    return 1+e**((-x)**(-1))"
     ],
     "language": "python",
     "metadata": {},
     "outputs": [],
     "prompt_number": 5
    },
    {
     "cell_type": "markdown",
     "metadata": {},
     "source": [
      "Suppose we define a neural network $A$ with $n$ layers by a series of $m_i \\times m_{i+1}$ weight matrices $W^{(i)}$, where $m_i$ is the number of neurons in the $i$-th layer (to include a bias term $b$, simply add one neuron to each layer and set the corresponding row in $W^{(i)}$ to a constant $b$). So for a given input $x$, the output of the first layer is $g(W^{(1)}x) := a^{(2)}$, where $g(v)$ is the function that applies our activation function element-wise to $v$, and the output of the second layer is $g(W^{(2)}a^{(2)}) := a^{(3)}$, and so on until we get our output vector $g(W^{(n)}a^{(n)}) := h_W(x)$.\n",
      "\n",
      "Define some error function $L_W(x,y)$ that compares the hypothesis $h_W(x)$ with the target values $y$ (note that $y$ is generally a vector in multiclass problems, as is $h_W(x)$. The backpropagation algorithm \"propagates\" the error from the output layer of neurons back through the intervening layers by calculating the derivative of the error function with respect to the weights $w_{ij}$, changing the weights at every layer. This process may be repeated until $x$ is classified correctly, or until some other specified stop condition.\n",
      "\n",
      "Step-by-step:\n",
      "\n",
      "1. Calculate $L_W(x,y) := \\delta^n(x)$, i.e. the error at the $n$-th layer.\n",
      "2. Calculate $\\delta^{n-1}(x) = (W^{(n-1)})^T \\delta^n(x) \\ast g'(W^{(n)}a^{(n)})$, where $\\ast$ indicates *component-wise multiplication* and $g'(v)$ is the derivative of our activation function, again applied component-wise.\n",
      "3. Calculate $\\delta^{n-2}(x)$ as above, and repeat until we get to $\\delta^2(x)$, the error at the second layer (i.e. the first layer with actual weights).\n",
      "4. Update the weights by the rule $W^{(n)} \\leftarrow W^{(n)} + \\delta^{n+1} (a^{(n)})^T$.\n",
      "5. Repeat for different inputs $x$.\n",
      "\n",
      "The above is the procedure for stochastic gradient descent, where the gradient of the total cost function with respect to a single layer (seen below) is represented by $\\delta^{n+1} (a^{(n)})^T$. A slightly modified version using accumulators can be used to run batch gradient descent. Other optimization procedures (RPROP, conjugate gradient, BFGS, L-BFGS, etc.) are possible. \n",
      "\n",
      "Backpropagation may also be read as optimizing a certain (ungainly) cost function... [look it up in Mohri 2012]"
     ]
    },
    {
     "cell_type": "code",
     "collapsed": false,
     "input": [
      "# Example: backprop on the iris data, versicolor vs rest\n",
      "# Note: versicolor is not linearly separable from rest\n",
      "\n"
     ],
     "language": "python",
     "metadata": {},
     "outputs": []
    },
    {
     "cell_type": "code",
     "collapsed": false,
     "input": [
      "from pybrain.structure import FeedForwardNetwork\n",
      "from pybrain.structure import LinearLayer, SigmoidLayer \n",
      "\n",
      "# define 2-3-1 network\n",
      "n = FeedForwardNetwork()\n",
      "inLayer = LinearLayer(2)\n",
      "hiddenLayer = SigmoidLayer(3)\n",
      "outLayer = LinearLayer(1) \n",
      "n.addInputModule(inLayer)\n",
      "n.addModule(hiddenLayer)\n",
      "n.addOutputModule(outLayer)\n",
      "\n",
      "from pybrain.structure import FullConnection\n",
      "in_to_hidden = FullConnection(inLayer, hiddenLayer)\n",
      "hidden_to_out = FullConnection(hiddenLayer, outLayer)\n",
      "n.addConnection(in_to_hidden)\n",
      "n.addConnection(hidden_to_out)\n",
      "n.sortModules()\n",
      "\n",
      "print \"Result: \" + str(n.activate([1, 2]))\n",
      "print \"Weights (hidden layer): \"+ str(in_to_hidden.params)\n",
      "print \"Weights (output layer): \"+ str(hidden_to_out.params)\n",
      "#import networkx as nx\n",
      "#import sys\n",
      "#from math import tanh\n",
      "#from functools import partial"
     ],
     "language": "python",
     "metadata": {},
     "outputs": [
      {
       "output_type": "stream",
       "stream": "stdout",
       "text": [
        "Result: [-1.82844217]\n",
        "Weights (hidden layer): [-0.1644142   1.2558551  -0.3231097  -1.68039948 -0.53515261  0.49912793]\n",
        "Weights (output layer): [-0.75763886 -1.55803456 -1.79021591]\n"
       ]
      }
     ],
     "prompt_number": 6
    },
    {
     "cell_type": "markdown",
     "metadata": {},
     "source": [
      "# Experimental setup\n",
      "\n",
      "We want to \n",
      "\n",
      "1. implement an algebraic way of combining neural networks, e.g. some version of the neural algebra\n",
      "2. verify that it works as written in Engeler, e.g. train a given network for some data, then break it up, train the pieces, and compose them back again\n",
      "3. make a prediction that takes advantage of this formalism\n",
      "\n",
      "A couple of thoughts, implementation-wise.\n",
      "\n",
      "1. we can use pybrain to compose the physical, underlying neural networks. The problem is to keep track of the firing patterns. But, I mean, is it really that hard? You just have to add one little flag in the Neuron class to save the input neurons, \"time\", and output neurons to a list. This will give you a list of all track expressions along with times, and then we can just add the track expressions up alongside times in order to get firing patterns.\n",
      "2. The trick is to get all the extra functionality, like the natural PROP structure + composition, the algebraic representation, \"data as an algebra over the PROP\" and a weight matrix as a functor from the neural algebra to the data (or is it the reverse direction?). And to introduce a PROP structure so we can manipulate these networks in an easy fashion. \n",
      "3. If I'm implementing functors, I probably want to use Haskell, e.g. for its categorical constructions, Monads, and algebraic data types.\n",
      "- notes from \"Practical Functional Reactive Programming\": programs that are pure... yet nonetheless respond to their environment in real-time! Callbacks, event loops, etc. Package: Reflex. Equational reasoning allows us to refactor code... safely. Local reasoning mean we can understand the \"meaning\" of the code in isolation---this is the key to *re-using* code since it doesn't depend on context (maybe \"local\" isn't the right thing to call this?). Haskell is great for \"batch systems\" like compilers and web APIs... something that takes inputs and gives outputs and the in-between is side-effect-free. But IRL, we want stuff like UI, or... robots! But this requires IO, and we're just doing imperative programming again. Answer: FRP. [FRP manages events (which are functors!) that \"fire\"... the firing is a dynamic behavior... I wonder if it could be DIRECTLY useful for the neural network modeling?] \n",
      "- Blaze is a \"monoid acting like a monad\"... useful for constructing values, but you can't get anything back out of it.\n",
      "- Telescope uses Reflex, natively in Haskell.\n",
      "\n",
      "4. So why not create a Haskell typeclass, PROP? So the underlying class would be a PRO.\n",
      "\n",
      "4. But ultimately, remember that this isn't about training neural networks... it's about combining ALREADY TRAINED networks. So we are given, somehow, two functor from two sets of data to two neural algebras F(A) and F(B), i.e. two weight matrices. We can compare the functors and we can compare the algebras F(A) and F(B)."
     ]
    },
    {
     "cell_type": "code",
     "collapsed": false,
     "input": [],
     "language": "python",
     "metadata": {},
     "outputs": []
    },
    {
     "cell_type": "markdown",
     "metadata": {},
     "source": [
      "# Example: (co)algebras for language\n",
      "\n",
      "From Yannis/Maxim: for a given corpus, I can define a *coalgebra* $\\text{Text}$ (over $\\mathbb{Z}$) where elements of $\\text{Text}$ are strings of words and sentences. The comultiplication $\\Delta : \\text{Text} \\to \\text{Text} \\otimes \\text{Text}$ is defined by \n",
      "\n",
      "\\begin{equation*}\\Delta(str) := \\sum_i str_1^{(i)} \\otimes str_2^{(i)}.\\end{equation*} \n",
      "\n",
      "Intuitively, the comultiplication captures all the different ways in which I can split up a given string $str$ in the text. The co-unit $\\epsilon : \\text{Text} \\to \\mathbb{Z}$ is defined (in Sweedler notation) by \n",
      "\n",
      "\\begin{equation*}str = \\sum_{(str)} e(str_1)str_2 = \\sum_{(str)} e(str_2)(str_1).\\end{equation*}\n",
      "\n",
      "This coalgebra gives rise to a dual unital, associative algebra with basis the words in the text and a multiplication understood as concatenation. So given $a_i, a_j$ as words or strings in the text, we set $a_i \\cdot a_j = a_k$ if the string $a_k$ exists in the text, if $a_i \\cdot a_j = 0$ if not.\n",
      "\n",
      "In particular, the bar complex of the algebra will allow us to compute the cohomology of the text, which captures all the words and phrases which **do not** appear in the text. In some sense, the cohomology is an approximation of the \"extra\" syntactic, semantic information which lives in the text.\n",
      "\n",
      "**How do I compute the cohomology?**\n",
      "\n",
      "1. How do I compute this cohomology? seems hard, but maybe I can compute the Euler characteristic. One needs a computer. Maxim said he will try.\n",
      "- discussion of a convention for the bar complex: move the dimensions down to the negative so we can have differentials that only go up, rather than up and down. (?)\n",
      "- have a bigrading: graded by the number of words (which is preserved by the bar differential) and... the number of \"string components\"?\n",
      "- suppose we generate the complex by applying the differential to just the words in the text, e.g. 0-simplices. This produces an *acyclic complex*, since nothing is in the kernel of the differential, i.e. all the words are (of course) in the text. But what we extend this to word strings of size 2, then of 3? Again we generate the complex by applying the differential everywhere. The situation becomes more interesting; this is the part with interesting cohomology.\n",
      "\n",
      "(At this point some discussion of Fibonacci, conjecture that Euler characteristic of the $n$-word complex is the sum of the Euler characteristic of the $n-1$-word complex + Euler of the $n-2$-word complex. Josh: likely the same story as Hemachandra's description of the Fibonacci numbers.)\n",
      "\n",
      "**What is the meaning in this text?**\n",
      "\n",
      "One idea: the meaning of a text is something you can extract by looking at *translations* of the text, where a translation is understood as a *morphism between algebras*. So take an algebra (e.g. category with 1 object). No degeneracy maps, so we think of it as a semi-simplicial set (?!). Evidently you can still do homotopy in this setting. Construct the nerve as normal, e.g. an arrow (in the category) is a 1-cell. Take two elements of algebra, $a$ and $b$, with $ab \\neq 0$, then the homotopy from $a \\cdot b$ to $ab$ is precisely $a \\otimes b$. Should we modify our bar differential? We can do so and still get a complex. So instead of d(a \\otimes b) = ab, we set $d(a \\otimes b) = a - ab + a. The reason for this: look up classifying space for a group. (Group cohomology has two extra terms vs the bar cohomology). \n",
      "\n",
      "(Note: to be correct you have to glue all the vertices of this complex together, since there is only 1 object in this category. But this won't matter since the simplicial map descends through the quotient of the complex.)\n",
      "\n",
      "Now go up 1 dimension. Have abc, which we put as a face to a 3-cell, as one face of a triangular pyramid. Edges are a, b, ab, bc, so on. So we have to glue this guy in. But if it so happens that $bc$ is 0, then we don't add that particular boundary or face. In general, if we think of strings of text as edges, e.g. paths in the algebra for that text, then we can think of translation as a way of mapping paths to paths. Yannis: the meaning should be some notion of *open neighborhood* around a path.\n",
      "\n",
      "Just to get some context: \"learning a language\" in AI is usually a matter of constructing either (1) a kind of prediction model of the language. Following this word, whats the next word? A coarse notion of meaning. Or (2) it's posed in a kind of question and answer sense. You have some sort of question parser, which ends up being a kind of query, (I imagine this like set comprehension), and the algorithm uses its model to look up the answer. So instead of direct translations (e.g. between Arabic text and English text), another way of thinking about it is that we have some query langauge or simple domain language, and we want to map \"neighborhoods\" in that algebra, whatever it looks like, to our $\\text{Text}$ algebra.\n",
      "\n",
      "Relating this to the previous discussion of cohomology: we cannot have an isomorphism, this may be just way too hard to compute. But what about a quasi-isomorphism?\n",
      "\n",
      "**Can we relate this to neural networks?**\n",
      "We want to reduce the dimension of the text, i.e. we want to cluster the words, map my algebra to some other, smaller algebra which preserves \"the same structure\" but is of lower dimension. So neural networks are one way of doing this kind of clustering work (see McClleland, or Bengio), usually based on the fact that many words have similar uses (e.g. dog runs, cat runs, red car, red bus). Another way of thinking about this: we encode the structure of the larger algebra in the differential of a new and smaller algebra (does this make sense?). In particular, see the Koszul dual obtained by adding up the new tensors, and this gets us a differential, precisely the power-differential, and where the new multiplication structure is tensoring. Now instead of an algebra we get a dg-algebra. So it's like a dg-category with the hom-spaces are complexes. (The smaller algebra has much more complicated structure constants!)\n",
      "\n",
      "**For the experiment:** need a tool that helps us construct chain maps and perform algebraic calculations. E.g. a computer algebra system. Possibilities: \n",
      "\n",
      "- Pari (C)\n",
      "- Macaulay2 (standalone) \n",
      "- Sage (standalone)\n",
      "- SymPy (Python)\n",
      "- Haskell (e.g. native types)"
     ]
    },
    {
     "cell_type": "markdown",
     "metadata": {},
     "source": [
      "# Motto: you can't know enough, so jump in head-first with an implementation"
     ]
    },
    {
     "cell_type": "markdown",
     "metadata": {},
     "source": [
      "# Brief review of two approaches\n",
      "\n",
      "## PDP\n",
      "In [McClelland and Rogers 2003](http://psych.stanford.edu/~jlm/papers/McCRogers03.pdf), the authors describe...\n",
      "\n",
      "For a given text corpus $Cor$, we define an *$n$-gram category* $\\textbf{Cor}_n$ as a category with objects the words in the corpus (equating words with the same spelling) and morphisms from $x$ to $y$ given by \"$x$ is $n$ words behind y\".\n",
      "\n",
      "Can we give a functor from $\\textbf{Cor}_n$ to a category constructed via PDP? This functor will give the \"combinatorial meaning\" of the word. It will assign to every word a vector representation, and the morphisms will be mapped to functions between the vectors. (I think Yannis is pointing toward training the representation from a \"0,1\" representation to some more complicated one that clusters the examples appropriately. \n",
      "\n",
      "The functor should determine a weight matrix, or vice versa. So learning is the same thing as constructing such a functor. The key thing is to *get the experiment*, and thus to get the functor going, but how to get the functor? \n",
      "\n",
      "Not sure what the correspondence is between the clusters in the PDP network and the cells in the diagram (generated from \"canary can grow\" and this correspondence corresponds to a cell in the nerve)... but there is some correspondence, surely. If we could figure out what the correspondence is, then we could describe a topological neural network?\n",
      "\n",
      "Consider the nerve of $\\textbf{Cor}_n$. Take a simplex $\\{x_1, ..., x_n\\}$ along with its \"largest vertex\" $x_l$; then the simplex represents all the words which go before $x_l$. Similarly we can take the smallest vertex $x_s$, for which the simplex represents all the words which go after $x_s$. Maxim's idea: if you look at the path algebra of a space, assume have a triangularization, you can form the dg-algebra with elements points and hom-spaces the simplices thought of as a family of paths going from one point to another in the simplex. And you can compose these simplices. And this is sort of like the nerve of the category? Can we use this associate words into similar \"meanings\", and then see what kind of algebra structure is on the nerve; the structure can help us compute the homology of the path space of the category, and we can use that to ...?\n",
      "\n",
      "## Neural probabilistic\n",
      "The neural probabilistic approach of [Bengio et. al.](http://jmlr.csail.mit.edu/papers/volume3/bengio03a/bengio03a.pdf).\n",
      "\n",
      "PDP is very close to the Bengio model. In the Bengio model you actually compute the probabilities of the words ebcause some words are more often. But here the advantage is that you can compose. Not quite clear how to compose in the Bengio model.\n",
      "\n",
      "\n",
      "## Context-free grammars\n",
      "Could the context-free grammar rules correspond to a PROP structure or some operadic structure in neural networks. I.e. could context-free grammars arise naturally from a given neural network structure? See [Marcolli and Port 2015](http://arxiv.org/pdf/1502.07796v1.pdf) on graph grammars. "
     ]
    },
    {
     "cell_type": "markdown",
     "metadata": {
      "hidden": false
     },
     "source": [
      "# Appendix: very brief review of PROPs\n",
      "\n",
      "A `PROP` (short for products-and-permutations category) is the algebra of the permutation group sitting above the naturals, technically represented by a PRO with an attached morphism from the skeletal category of finite sets and bijections. Here we're enriching the hom-sets between natural numbers, but what's really important is that these enriched hom-objects are compatible with the symmetry sitting \"inside\" the natural number (translation: we're keeping track of which neuron in which subgraph makes a contribution when we contract the subgraph or graft it onto another subgraph). Just as we can factor the neural network into layers or subgraphs which connect to each other in the right ways, we can factor the PROP into simpler PROPs respecting a distributive law. Grafting and contraction of networks corresponds to composition in the PROP. \n",
      "\n",
      "Objects of the PROP are just indices indicating the number of inputs/outputs. Morphisms have different structure depending on how we define neurons/structures on the corollas.\n",
      "\n",
      "Exercise. write down operad for an associate algebra or for a lie algebra, or for an $A_\\infty$ algebra. PROPs are more difficult objects. Usually you put some tensors on the corollas (many in and many out). Depending on what you want there may be certain properties. For example if you want associativity the compositions have to respect certain equations. If you want a Calabi-Yau algebra you need cyclic invariance."
     ]
    },
    {
     "cell_type": "markdown",
     "metadata": {},
     "source": [
      "# Appendix: very brief review of lambda calculi\n",
      "\n",
      "PROPs are algebras over the naturals; lambda calculi are \"algebras\" for composing functions on the naturals, so in a purely formal way we might expect there to be some correspondence between the two. Manin (2010) articulates this correspondence directly: \"What is needed for efficient constructivization of programming methods is a good encoding scheme, simultaneously intuitive and accommodating natural operations [for obtaining new programming methods from primitive ones]. We already mentioned two mental worlds in which various encoding schemes can crystallize: [recursive functions and Turing machines.] In this section we will describe the third, topological one... geometric images of information flows and hubs where the flows merge, get processed, and diverge again to flow further. Moreover, we will formalize and endow this world by the structure of a constructive category. Looking at graphs as a replacement of formulas in a language, we define models/interpretations as functors on various categories of decorated graphs.\"\n",
      "\n",
      "A PROP, in this setting, is a (symmetric, monoidal) functor from a category (actually, groupoid) of oriented corollas to a category of Boolean circuits, which are finite automata that compute binary inputs. In essence it determines the particular set of Boolean circuits which are \"computable\", i.e. constructible by primitive recursive functions.\n",
      "\n",
      "**Proposition. (Manin)** There is a bijection between PROPs and lambda calculi, where the untyped lambda calculus corresponds to the free PROP generated on ... [what is the graph representation of the basic recursive functions?]\n",
      "\n",
      "*Proof:* ?\n",
      "\n",
      "Manin ultimately emphasizes a slightly different encoding scheme in terms of a category $Prim$, first described by Yanofsky (?) in a more directly computational language. \"The corollas for PROPs are flowcharts accepting arguments from, say, $(\\mathbb{Z}^+)^m$ and producing a vector in $(\\mathbb{Z}^+)^n$, whereas decorated trees in Prim accept and produce arguments that are themselves vectors of functions\". To be quite honest, I am not sure what the difference between the two is. [It gets a bit confusing... thie book chapter reads like Manin spliced two separate papers together without editing the result.]\n",
      "\n",
      "[Note to self, follow trail of links of people at http://rdp15.mimuw.edu.pl/index.php?site=hdra.]"
     ]
    },
    {
     "cell_type": "markdown",
     "metadata": {},
     "source": [
      "# Appendix: the neural algebra\n",
      "\n",
      "[Engeler (2012)](http://www.math.ethz.ch/~engeler/NeuralAlgebra.pdf) describes the *neural algebra* as a subalgebra of the *combinatory algebra*, a well-known equivalent to the untyped lambda calculus. (By this and Manin's proposition, we know that there is a PROP corresponding to the neural algebra. We will give a constructive proof below.) Engeler gives the following definition:\n",
      "\n",
      "**Definition.** suppose $A$ is a neural network, considered as a directed graph, and $F(A)$ is the set of firing patterns of $A$, where a firing pattern is a sequence of \"track expressions\", namely activations of neurons in $A$ conforming to some firing laws. In particular, a track expression $x$ is defined on a particular key neuron $a_0$ (one thinks of this as the neuron performing the local computation) by \n",
      "\n",
      "\\begin{equation*}\n",
      "x := \\left \\{ a_1, ..., a_k \\right \\} \\overset{t}{\\underset{a_0}{\\to}} a_{k+1}\n",
      "\\end{equation*}\n",
      "\n",
      "where $a_1, ..., a_k$ are neurons with edges to $a_0$ and $a_0$ has an edge to an \"output\" neuron $a_{k+1}$. The track expression may be understood as a proposition like: a_0 fires at time $t$ according to its firing law (weights, activation function, bias, etc.) from inputs $a_1, ..., a_k$ and sends its output to a neuron $a_{k+1}$. The existence of a track expression or firing pattern is determined by the input data, activation function, and weight matrix.\n",
      "\n",
      "The neural algebra $N_A$ is defined to be the set of firing patterns $F(A)$ along with the following composition law: for a firing pattern $x \\in F(A)$ given by the above (so it is just one track expression) and another firing pattern $y$ (again of sequence length one) given by \n",
      "\n",
      "\\begin{equation*}\n",
      "y := \\left \\{ b_1, ..., b_s \\right \\} \\overset{t-1}{\\underset{b_0}{\\to}} b_{s+1}\n",
      "\\end{equation*}\n",
      "\n",
      "the composition $x \\cdot y$ is defined by\n",
      "\\begin{equation*}\n",
      "x \\cdot y := \\left \\{ \\{ b_1, ..., b_s \\} \\overset{t-1}{\\underset{a_1}{\\to}} b_{s+1}, a_1, ..., a_k \\right \\} \n",
      "\\overset{t}{\\underset{a_0}{\\to}} a_{k+1}\n",
      "\\end{equation*}\n",
      "\n",
      "Engeler's theory itself has no intrinsic notion of inputs, e.g. data; these may be recovered as functors from $N_A$ to $\\textbf{Set}$, i.e. functors that define a particular firing pattern.\n",
      "\n",
      "**Definition.** Data is an algebra of a PROP $P$ in $\\textbf{Set}$ (or some other category $C$), e.g. a representation of the PROP. The category of such algebras is denoted $\\text{Alg}(P,C)$.\n",
      "\n",
      "Already from McCullough and Pitts we know that neural networks are capable of computing any computable function.\n",
      "\n",
      "**Proposition.** For any neural network $A$, there is an equivalence of categories between the neural algebra $N_A$ and the PROP over $A$.\n",
      "\n",
      "*Proof:* ?\n",
      "\n",
      "**Corollary.** When a network has only 1 output, then its PROP will be generated by an operad.\n",
      "\n",
      "[*Connection to Riemann surfaces?* the idea is every neural network should define some sort of TQFT. That said TQFTs are defined by operations that have to do with surfaces, but neural networks don't live on surfaces but are abstract graphs. (Special thing about ribbon graphs: locally planar around every vertex. Equivalent to saying that the graph lives on a Riemann surface.)]"
     ]
    },
    {
     "cell_type": "code",
     "collapsed": false,
     "input": [
      "# implement for step-wise activation"
     ],
     "language": "python",
     "metadata": {},
     "outputs": [],
     "prompt_number": 7
    },
    {
     "cell_type": "markdown",
     "metadata": {},
     "source": [
      "# Non-commutative geometry\n",
      "\n",
      "I'm thinking about combining and composing arbitrary sentences in natural language, or maybe pieces of code in a computer language. Now these are strings ($\\in \\text{Ob}(\\textbf{Str})$) and the order in which such strings are composed definitely makes a difference to the meaning of the string, and it makes things complicated. So is there a simpler case? Well, I can throw out the order, leaving me with a big bag-of-words, a big bag-of-phrases, or a big bag-of-code-chunks. Many approaches in natural langauge begin at this level, including of course the bag-of-words models.\n",
      "\n",
      "Now in the simplest case we use polynomial relations to define varieties, or ideals in some suitable ring, is there a formulation where the \"order\" in which we introduce such polynomial relations matters, i.e. where different orderings of the relations define distinct varieties (or more generalized spaces)? \n",
      "\n",
      "Naively I imagine a resolution of syzygy modules, and now I introduce some ordering on the relations in the first syzygy module. So the first thing I'd think is that this ordering exists as a relation in the second syzygy module, but that doesn't make sense because the ordering is not an inequality defined in terms of the underlying ring, but is something a bit external... maybe you would call it \"semantic\"?\n",
      "\n",
      "Two ideas:\n",
      "\n",
      "1. Yannis: this is noncommutative geometry.\n",
      "2. Operads: attach to every polynomial (standing in for a sentence-fragment) and \"attach them\" like pipes\n",
      "\n",
      "## What is non-commutative geometry?\n",
      "\n",
      "Notes from Ginzburg http://arxiv.org/abs/math/0506603\n",
      "Connes lecture (broad introduction) http://www.alainconnes.org/docs/einsymp.pdf\n",
      "\n",
      "> Connes: "
     ]
    },
    {
     "cell_type": "markdown",
     "metadata": {},
     "source": [
      "# The sigmoid case\n",
      "\n",
      "A dg-PROP (over a ring k) is a PROP enriched over complexes of k-modules."
     ]
    },
    {
     "cell_type": "code",
     "collapsed": false,
     "input": [
      "# sigmoid implementation"
     ],
     "language": "python",
     "metadata": {},
     "outputs": [],
     "prompt_number": 8
    },
    {
     "cell_type": "markdown",
     "metadata": {
      "hidden": false
     },
     "source": [
      "Important question for experiment: how do we use the PROP structure, and the algebra structure over the PROP? \n",
      "\n",
      "John: \"word meaning\" (really, word similarity) could be modelled by the Yoneda embedding of a suitable category. Connect to some version of Gromov's pre-syntactic categories? \n",
      "\n",
      "Yannis: neural networks could be the morphisms in such a category of strings as objects and inclusions as morphisms.\n",
      "\n",
      "Josh: most important thing we can do is to use the PROP structure to explain and clarify existing ways we already use neural networks, e.g. recurrent networks. Yannis: in the recurrent case the algebra is no longer free and you have to resolve it; could be pretty interesting, ref. path algebras."
     ]
    },
    {
     "cell_type": "markdown",
     "metadata": {
      "hidden": false
     },
     "source": [
      "# Topological neural networks\n",
      "Can we construct a topological neural network that eats chains instead of eating points? For example, take the data, use persistent homology to output the chain complex of that data, and then feed the chain complex to a neural network? The key point is that we want composition of networks to respect the differential in the input complex.\n",
      "\n",
      "It's helpful to remember that the activation function is an representation of the firing pattern of an actual neuron."
     ]
    },
    {
     "cell_type": "code",
     "collapsed": false,
     "input": [
      "# (2/21) Attempted to setup the Dionysus persistent homology package, but received a consistent error `Fatal Python error: PyEval_SaveThread: NULL tstate`. I believe this has to do with the Python bindings.\n",
      "# (2/22) Attempted to use the Holes package (a port of javaPlex, after which I will default to using Plex in Matlab), but there's no documentation for it.\n",
      "# (2/23) Skipping to Python Mapper, attempting on GUI before importing it as a Python module."
     ],
     "language": "python",
     "metadata": {},
     "outputs": [],
     "prompt_number": 9
    },
    {
     "cell_type": "markdown",
     "metadata": {
      "hidden": false
     },
     "source": [
      "# Varying the sigmoid\n",
      "\n",
      "One idea, suggested by Maxim: vary the slope parameter in the sigmoid in order to define a \"clustering\" of the graph (in the Morse theory sense: take the gradient flow of a function and use it to determine the homology of the space). [Currently, we're looking for an activation function for neurons that will get us to a nice picture of \"topological neural networks\". Not sure exactly what Maxim means here by clustering of the graph, but varying the slope parameter sounds like a step in the right direction. Plus, I wonder how this Morse-theoretic reasoning can in some ways generalize backprop (e.g. gradient descent) which already uses the gradient flow.]"
     ]
    },
    {
     "cell_type": "code",
     "collapsed": false,
     "input": [],
     "language": "python",
     "metadata": {},
     "outputs": []
    }
   ],
   "metadata": {}
  }
 ]
}